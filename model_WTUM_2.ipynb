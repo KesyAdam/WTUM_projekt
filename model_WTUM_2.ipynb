{
 "cells": [
  {
   "cell_type": "code",
   "execution_count": 2,
   "id": "a62d3b9a-0a73-40c9-bef9-513399ca29f1",
   "metadata": {},
   "outputs": [],
   "source": [
    "import os\n",
    "from skimage import io, transform\n",
    "import numpy as np\n",
    "import matplotlib.pyplot as plt\n",
    "from skimage.transform import resize\n",
    "from sklearn import svm\n",
    "from sklearn.model_selection import train_test_split\n",
    "from sklearn.metrics import accuracy_score\n",
    "from sklearn.datasets import load_iris\n",
    "import seaborn as sns\n",
    "import tensorflow as tf\n",
    "from tensorflow.keras.models import Sequential\n",
    "from tensorflow.keras.layers import Dense, Flatten, Dropout\n",
    "from tensorflow.keras.utils import to_categorical\n",
    "from tensorflow.keras.optimizers import Adam\n",
    "import gradio as gr"
   ]
  },
  {
   "cell_type": "code",
   "execution_count": 3,
   "id": "d1e35e5f-847f-4556-91cb-db4fe7855600",
   "metadata": {},
   "outputs": [],
   "source": [
    "def load_emnist_data(base_path):\n",
    "    data = []\n",
    "    labels = []\n",
    "\n",
    "    train_path = os.path.join(base_path, 'Train')\n",
    "    validation_path = os.path.join(base_path, 'Validation')\n",
    "\n",
    "    def load_data_from_folder(folder_path, label):\n",
    "        images = []\n",
    "        for filename in os.listdir(folder_path):\n",
    "            if filename.endswith(('.jpg', '.png')):\n",
    "                img_path = os.path.join(folder_path, filename)\n",
    "                img = io.imread(img_path, as_gray=True)  \n",
    "                img = transform.resize(img, (28, 28))  \n",
    "                images.append(img)\n",
    "                labels.append(label)\n",
    "        return images\n",
    "\n",
    "    for label in os.listdir(train_path):\n",
    "        label_path = os.path.join(train_path, label)\n",
    "        if os.path.isdir(label_path):\n",
    "            label_value = ord(label) \n",
    "            data += load_data_from_folder(label_path, label_value)\n",
    "\n",
    "    for label in os.listdir(validation_path):\n",
    "        label_path = os.path.join(validation_path, label)\n",
    "        if os.path.isdir(label_path):\n",
    "            label_value = ord(label)  \n",
    "            data += load_data_from_folder(label_path, label_value)\n",
    "\n",
    "    data = np.array(data)\n",
    "    labels = np.array(labels)\n",
    "\n",
    "    return data, labels"
   ]
  },
  {
   "cell_type": "code",
   "execution_count": 4,
   "id": "ed1636a8-84c5-4730-aa22-9587eadcc3ed",
   "metadata": {},
   "outputs": [],
   "source": [
    "base_path = 'C:/Users/Adam/Desktop/WTUM/dataset/'"
   ]
  },
  {
   "cell_type": "code",
   "execution_count": 5,
   "id": "87392747-d565-4c0f-8e30-146435cddd1d",
   "metadata": {},
   "outputs": [],
   "source": [
    "data, labels = load_emnist_data(base_path)"
   ]
  },
  {
   "cell_type": "code",
   "execution_count": 6,
   "id": "e4f8f541-89cf-4f03-a03a-e15e8f152abd",
   "metadata": {},
   "outputs": [],
   "source": [
    "datan = data / 255.0"
   ]
  },
  {
   "cell_type": "code",
   "execution_count": 7,
   "id": "6a9a7244-7963-40d0-8811-570b48e38ce0",
   "metadata": {},
   "outputs": [],
   "source": [
    "X_train, X_test, y_train, y_test = train_test_split(datan, labels, test_size=0.2, random_state=42)"
   ]
  },
  {
   "cell_type": "code",
   "execution_count": 8,
   "id": "20034372-438e-48ea-b3ca-ae92c1e93a15",
   "metadata": {},
   "outputs": [
    {
     "name": "stderr",
     "output_type": "stream",
     "text": [
      "C:\\Users\\Adam\\AppData\\Local\\Programs\\Python\\Python311\\Lib\\site-packages\\keras\\src\\layers\\reshaping\\flatten.py:37: UserWarning: Do not pass an `input_shape`/`input_dim` argument to a layer. When using Sequential models, prefer using an `Input(shape)` object as the first layer in the model instead.\n",
      "  super().__init__(**kwargs)\n"
     ]
    }
   ],
   "source": [
    "unique_labels = np.unique(labels)\n",
    "num_classes = len(unique_labels)\n",
    "label_to_index = {label: index for index, label in enumerate(unique_labels)}\n",
    "y_train_mapped = np.array([label_to_index[label] for label in y_train])\n",
    "y_test_mapped = np.array([label_to_index[label] for label in y_test])\n",
    "\n",
    "y_train = to_categorical(y_train_mapped, num_classes)\n",
    "y_test = to_categorical(y_test_mapped, num_classes)\n",
    "\n",
    "model = Sequential([\n",
    "    Flatten(input_shape=(28, 28)),\n",
    "    Dense(256, activation='relu'),\n",
    "    Dropout(0.5),  \n",
    "    Dense(128, activation='relu'),\n",
    "    Dropout(0.5),  \n",
    "    Dense(64, activation='relu'),\n",
    "    Dense(num_classes, activation='softmax')\n",
    "])\n",
    "\n",
    "model.compile(optimizer=Adam(learning_rate=0.001),  \n",
    "              loss='categorical_crossentropy',\n",
    "              metrics=['accuracy'])"
   ]
  },
  {
   "cell_type": "code",
   "execution_count": 10,
   "id": "b52643f3-eb9a-4f2b-8527-7bfbac680b07",
   "metadata": {},
   "outputs": [
    {
     "name": "stdout",
     "output_type": "stream",
     "text": [
      "Epoch 1/10\n",
      "\u001b[1m21414/21414\u001b[0m \u001b[32m━━━━━━━━━━━━━━━━━━━━\u001b[0m\u001b[37m\u001b[0m \u001b[1m24s\u001b[0m 996us/step - accuracy: 0.5144 - loss: 1.7050 - val_accuracy: 0.8095 - val_loss: 0.6292\n",
      "Epoch 2/10\n",
      "\u001b[1m21414/21414\u001b[0m \u001b[32m━━━━━━━━━━━━━━━━━━━━\u001b[0m\u001b[37m\u001b[0m \u001b[1m21s\u001b[0m 973us/step - accuracy: 0.7312 - loss: 0.9049 - val_accuracy: 0.8336 - val_loss: 0.5328\n",
      "Epoch 3/10\n",
      "\u001b[1m21414/21414\u001b[0m \u001b[32m━━━━━━━━━━━━━━━━━━━━\u001b[0m\u001b[37m\u001b[0m \u001b[1m21s\u001b[0m 971us/step - accuracy: 0.7542 - loss: 0.8185 - val_accuracy: 0.8474 - val_loss: 0.4812\n",
      "Epoch 4/10\n",
      "\u001b[1m21414/21414\u001b[0m \u001b[32m━━━━━━━━━━━━━━━━━━━━\u001b[0m\u001b[37m\u001b[0m \u001b[1m21s\u001b[0m 967us/step - accuracy: 0.7662 - loss: 0.7753 - val_accuracy: 0.8550 - val_loss: 0.4581\n",
      "Epoch 5/10\n",
      "\u001b[1m21414/21414\u001b[0m \u001b[32m━━━━━━━━━━━━━━━━━━━━\u001b[0m\u001b[37m\u001b[0m \u001b[1m21s\u001b[0m 971us/step - accuracy: 0.7726 - loss: 0.7516 - val_accuracy: 0.8591 - val_loss: 0.4467\n",
      "Epoch 6/10\n",
      "\u001b[1m21414/21414\u001b[0m \u001b[32m━━━━━━━━━━━━━━━━━━━━\u001b[0m\u001b[37m\u001b[0m \u001b[1m21s\u001b[0m 971us/step - accuracy: 0.7789 - loss: 0.7301 - val_accuracy: 0.8645 - val_loss: 0.4306\n",
      "Epoch 7/10\n",
      "\u001b[1m21414/21414\u001b[0m \u001b[32m━━━━━━━━━━━━━━━━━━━━\u001b[0m\u001b[37m\u001b[0m \u001b[1m21s\u001b[0m 969us/step - accuracy: 0.7821 - loss: 0.7192 - val_accuracy: 0.8651 - val_loss: 0.4308\n",
      "Epoch 8/10\n",
      "\u001b[1m21414/21414\u001b[0m \u001b[32m━━━━━━━━━━━━━━━━━━━━\u001b[0m\u001b[37m\u001b[0m \u001b[1m21s\u001b[0m 969us/step - accuracy: 0.7860 - loss: 0.7068 - val_accuracy: 0.8707 - val_loss: 0.4121\n",
      "Epoch 9/10\n",
      "\u001b[1m21414/21414\u001b[0m \u001b[32m━━━━━━━━━━━━━━━━━━━━\u001b[0m\u001b[37m\u001b[0m \u001b[1m21s\u001b[0m 982us/step - accuracy: 0.7881 - loss: 0.7012 - val_accuracy: 0.8703 - val_loss: 0.4138\n",
      "Epoch 10/10\n",
      "\u001b[1m21414/21414\u001b[0m \u001b[32m━━━━━━━━━━━━━━━━━━━━\u001b[0m\u001b[37m\u001b[0m \u001b[1m21s\u001b[0m 966us/step - accuracy: 0.7909 - loss: 0.6909 - val_accuracy: 0.8727 - val_loss: 0.4039\n"
     ]
    },
    {
     "data": {
      "text/plain": [
       "<keras.src.callbacks.history.History at 0x24746cdf3d0>"
      ]
     },
     "execution_count": 10,
     "metadata": {},
     "output_type": "execute_result"
    }
   ],
   "source": [
    "model.fit(X_train, y_train, epochs=10, batch_size=32, validation_data=(X_test, y_test))"
   ]
  },
  {
   "cell_type": "code",
   "execution_count": 12,
   "id": "95175023-3681-4746-bf3c-88c3e1f4fc4a",
   "metadata": {},
   "outputs": [
    {
     "name": "stdout",
     "output_type": "stream",
     "text": [
      "\u001b[1m5354/5354\u001b[0m \u001b[32m━━━━━━━━━━━━━━━━━━━━\u001b[0m\u001b[37m\u001b[0m \u001b[1m3s\u001b[0m 488us/step - accuracy: 0.8735 - loss: 0.3999\n",
      "Loss: 0.403949499130249, Accuracy: 0.8726767301559448\n"
     ]
    }
   ],
   "source": [
    "loss, accuracy = model.evaluate(X_test, y_test)\n",
    "print(f'Loss: {loss}, Accuracy: {accuracy}')"
   ]
  },
  {
   "cell_type": "code",
   "execution_count": 26,
   "id": "f3e3ff83-0a82-4fb8-ac97-cee7eba14603",
   "metadata": {},
   "outputs": [
    {
     "name": "stderr",
     "output_type": "stream",
     "text": [
      "WARNING:absl:You are saving your model as an HDF5 file via `model.save()` or `keras.saving.save_model(model)`. This file format is considered legacy. We recommend using instead the native Keras format, e.g. `model.save('my_model.keras')` or `keras.saving.save_model(model, 'my_model.keras')`. \n"
     ]
    }
   ],
   "source": [
    "model.save('C:/Users/Adam/Desktop/WTUM/snn_model_2.h5')"
   ]
  },
  {
   "cell_type": "code",
   "execution_count": null,
   "id": "a02227d0-9d00-4144-a42a-398d021f822d",
   "metadata": {},
   "outputs": [],
   "source": []
  }
 ],
 "metadata": {
  "kernelspec": {
   "display_name": "Python 3 (ipykernel)",
   "language": "python",
   "name": "python3"
  },
  "language_info": {
   "codemirror_mode": {
    "name": "ipython",
    "version": 3
   },
   "file_extension": ".py",
   "mimetype": "text/x-python",
   "name": "python",
   "nbconvert_exporter": "python",
   "pygments_lexer": "ipython3",
   "version": "3.11.7"
  }
 },
 "nbformat": 4,
 "nbformat_minor": 5
}
