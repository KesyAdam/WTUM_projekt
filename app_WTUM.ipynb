{
 "cells": [
  {
   "cell_type": "code",
   "execution_count": 2,
   "id": "56e0eb49-55d2-4324-9bdd-cbc255603f5c",
   "metadata": {},
   "outputs": [],
   "source": [
    "import os\n",
    "from skimage import io, transform\n",
    "import numpy as np\n",
    "import matplotlib.pyplot as plt\n",
    "from skimage.transform import resize\n",
    "from sklearn import svm\n",
    "from sklearn.model_selection import train_test_split\n",
    "from sklearn.metrics import accuracy_score\n",
    "from sklearn.datasets import load_iris\n",
    "import seaborn as sns\n",
    "import tensorflow as tf\n",
    "from tensorflow.keras.models import Sequential\n",
    "from tensorflow.keras.layers import Dense, Flatten, Dropout\n",
    "from tensorflow.keras.utils import to_categorical\n",
    "from tensorflow.keras.optimizers import Adam\n",
    "import dash\n",
    "import dash_core_components as dcc\n",
    "import dash_html_components as html\n",
    "from dash.dependencies import Input, Output, State\n",
    "import base64\n",
    "import numpy as np\n",
    "import io\n",
    "from skimage import io as skio, transform"
   ]
  },
  {
   "cell_type": "code",
   "execution_count": 3,
   "id": "e4a5b51d-81ba-4f8f-8d36-7f079b6114cb",
   "metadata": {},
   "outputs": [
    {
     "name": "stderr",
     "output_type": "stream",
     "text": [
      "WARNING:absl:Compiled the loaded model, but the compiled metrics have yet to be built. `model.compile_metrics` will be empty until you train or evaluate the model.\n"
     ]
    }
   ],
   "source": [
    "model = tf.keras.models.load_model('C:/Users/Adam/Desktop/WTUM/snn_model.h5')"
   ]
  },
  {
   "cell_type": "code",
   "execution_count": 4,
   "id": "b49a80ac-6887-4ef3-b74e-008e9f8a5438",
   "metadata": {},
   "outputs": [
    {
     "data": {
      "text/html": [
       "\n",
       "        <iframe\n",
       "            width=\"100%\"\n",
       "            height=\"650\"\n",
       "            src=\"http://127.0.0.1:8055/\"\n",
       "            frameborder=\"0\"\n",
       "            allowfullscreen\n",
       "            \n",
       "        ></iframe>\n",
       "        "
      ],
      "text/plain": [
       "<IPython.lib.display.IFrame at 0x1bb21b7b950>"
      ]
     },
     "metadata": {},
     "output_type": "display_data"
    }
   ],
   "source": [
    "app = dash.Dash(__name__)\n",
    "\n",
    "ascii_mapping = {\n",
    "    0: \"#\",   1: \"$\",   2: \"&\",   3: \"0\",   4: \"1\",   5: \"2\",   6: \"3\",   7: \"4\",\n",
    "    8: \"5\",   9: \"6\",  10: \"7\",  11: \"8\",  12: \"9\",  13: \"@\",  14: \"A\",  15: \"B\",\n",
    "   16: \"C\",  17: \"D\",  18: \"E\",  19: \"F\",  20: \"G\",  21: \"H\",  22: \"I\",  23: \"J\",\n",
    "   24: \"K\",  25: \"L\",  26: \"M\",  27: \"N\",  28: \"P\",  29: \"Q\",  30: \"R\",  31: \"S\",\n",
    "   32: \"T\",  33: \"U\",  34: \"V\",  35: \"W\",  36: \"X\",  37: \"Y\",  38: \"Z\"\n",
    "}\n",
    "\n",
    "def predict_image(img):\n",
    "    image = skio.imread(io.BytesIO(base64.b64decode(img.split(',')[1])))\n",
    "    image = transform.resize(image, (28, 28))\n",
    "    image = np.expand_dims(image, axis=0)\n",
    "    image = image / 255.0\n",
    "\n",
    "    prediction = model.predict(image)\n",
    "    predicted_label = np.argmax(prediction) \n",
    "\n",
    "    predicted_label = ascii_mapping.get(predicted_label, \"nieznany\")\n",
    "    return predicted_label\n",
    "\n",
    "app.layout = html.Div([\n",
    "    html.H1(\"EMNIST rozpoznawanie znaków\", style={'color': 'white'}),\n",
    "    dcc.Upload(\n",
    "        id='upload-image',\n",
    "        children=html.Div([\n",
    "            'Przęciągnij i upuść lub ',\n",
    "            html.A('Wybierz z plików obraz', style={'color': 'white'})\n",
    "        ]),\n",
    "        style={\n",
    "            'width': '50%',\n",
    "            'height': '60px',\n",
    "            'lineHeight': '60px',\n",
    "            'borderWidth': '1px',\n",
    "            'borderStyle': 'dashed',\n",
    "            'borderRadius': '5px',\n",
    "            'textAlign': 'center',\n",
    "            'margin': '10px',\n",
    "            'color': 'white',\n",
    "            'borderColor': 'white'\n",
    "        },\n",
    "        multiple=False\n",
    "    ),\n",
    "    html.Div(id='output-image-upload', style={'color': 'white'}),\n",
    "], style={'backgroundColor': 'black', 'height': '100vh', 'padding': '10px'})\n",
    "\n",
    "@app.callback(Output('output-image-upload', 'children'),\n",
    "              [Input('upload-image', 'contents')],\n",
    "              [State('upload-image', 'filename')])\n",
    "def update_output(contents, filename):\n",
    "    if contents is not None:\n",
    "        return html.Div([\n",
    "            html.H5(filename),\n",
    "            html.Img(src=contents, style={'height': '200px'}),\n",
    "            html.Hr(),\n",
    "            html.H6(f'Predicted Label: {predict_image(contents)}')\n",
    "        ])\n",
    "\n",
    "if __name__ == '__main__':\n",
    "    app.run_server(debug=True, port=8055)"
   ]
  },
  {
   "cell_type": "code",
   "execution_count": null,
   "id": "20ddc21a-a918-48c0-84af-6aea035a6c46",
   "metadata": {},
   "outputs": [],
   "source": []
  },
  {
   "cell_type": "code",
   "execution_count": null,
   "id": "30465fcb-6f0c-4911-ae4d-e650ea1a253d",
   "metadata": {},
   "outputs": [],
   "source": []
  }
 ],
 "metadata": {
  "kernelspec": {
   "display_name": "Python 3 (ipykernel)",
   "language": "python",
   "name": "python3"
  },
  "language_info": {
   "codemirror_mode": {
    "name": "ipython",
    "version": 3
   },
   "file_extension": ".py",
   "mimetype": "text/x-python",
   "name": "python",
   "nbconvert_exporter": "python",
   "pygments_lexer": "ipython3",
   "version": "3.11.7"
  }
 },
 "nbformat": 4,
 "nbformat_minor": 5
}
