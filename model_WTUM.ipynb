{
 "cells": [
  {
   "cell_type": "code",
   "execution_count": 1,
   "id": "55ce84f5-7725-40f7-8324-2fafa9529fb0",
   "metadata": {},
   "outputs": [],
   "source": [
    "import os\n",
    "from skimage import io, transform\n",
    "import numpy as np\n",
    "import matplotlib.pyplot as plt\n",
    "from skimage.transform import resize\n",
    "from sklearn import svm\n",
    "from sklearn.model_selection import train_test_split\n",
    "from sklearn.metrics import accuracy_score\n",
    "from sklearn.datasets import load_iris\n",
    "import seaborn as sns\n",
    "import tensorflow as tf\n",
    "from tensorflow.keras.models import Sequential\n",
    "from tensorflow.keras.layers import Dense, Flatten, Dropout\n",
    "from tensorflow.keras.utils import to_categorical\n",
    "from tensorflow.keras.optimizers import Adam"
   ]
  },
  {
   "cell_type": "code",
   "execution_count": 2,
   "id": "15779108-bcbe-4679-8be4-19031c318b1b",
   "metadata": {},
   "outputs": [],
   "source": [
    "import os\n",
    "import numpy as np\n",
    "from skimage import io, transform\n",
    "import random\n",
    "\n",
    "def load_emnist_data(base_path):\n",
    "    data = []\n",
    "    labels = []\n",
    "\n",
    "    train_path = os.path.join(base_path, 'Train')\n",
    "    validation_path = os.path.join(base_path, 'Validation')\n",
    "\n",
    "    def load_data_from_folder(folder_path, label):\n",
    "        images = []\n",
    "        files = os.listdir(folder_path)\n",
    "        random.shuffle(files)  \n",
    "        num_files = len(files)\n",
    "        num_to_load = num_files // 20  \n",
    "\n",
    "        for filename in files[:num_to_load]:\n",
    "            if filename.endswith(('.jpg', '.png')):\n",
    "                img_path = os.path.join(folder_path, filename)\n",
    "                img = io.imread(img_path, as_gray=True)  \n",
    "                img = transform.resize(img, (28, 28))  \n",
    "                images.append(img)\n",
    "                labels.append(label)\n",
    "        return images\n",
    "\n",
    "    for label in os.listdir(train_path):\n",
    "        label_path = os.path.join(train_path, label)\n",
    "        if os.path.isdir(label_path):\n",
    "            label_value = ord(label) \n",
    "            data += load_data_from_folder(label_path, label_value)\n",
    "\n",
    "    for label in os.listdir(validation_path):\n",
    "        label_path = os.path.join(validation_path, label)\n",
    "        if os.path.isdir(label_path):\n",
    "            label_value = ord(label)  \n",
    "            data += load_data_from_folder(label_path, label_value)\n",
    "\n",
    "    data = np.array(data)\n",
    "    labels = np.array(labels)\n",
    "\n",
    "    return data, labels\n"
   ]
  },
  {
   "cell_type": "code",
   "execution_count": 3,
   "id": "b1ef99f8-1889-47aa-ac21-4c5b95784f87",
   "metadata": {},
   "outputs": [],
   "source": [
    "base_path = 'C:/Users/Adam/Desktop/WTUM/dataset/'"
   ]
  },
  {
   "cell_type": "code",
   "execution_count": 4,
   "id": "95d1c6ed-c48e-4c95-b9b8-db93df90152a",
   "metadata": {},
   "outputs": [],
   "source": [
    "data, labels = load_emnist_data(base_path)"
   ]
  },
  {
   "cell_type": "code",
   "execution_count": 6,
   "id": "6765b658-2d6e-4a14-a14a-d11a833348c0",
   "metadata": {},
   "outputs": [],
   "source": [
    "datan = data / 255.0"
   ]
  },
  {
   "cell_type": "code",
   "execution_count": 7,
   "id": "2d8013ef-6620-42bc-9f75-21d011824af4",
   "metadata": {},
   "outputs": [],
   "source": [
    "X_train, X_test, y_train, y_test = train_test_split(datan, labels, test_size=0.2, random_state=42)"
   ]
  },
  {
   "cell_type": "code",
   "execution_count": 8,
   "id": "4302a41e-7812-41ec-9791-873c43f04e8c",
   "metadata": {},
   "outputs": [
    {
     "name": "stderr",
     "output_type": "stream",
     "text": [
      "C:\\Users\\Adam\\AppData\\Local\\Programs\\Python\\Python311\\Lib\\site-packages\\keras\\src\\layers\\reshaping\\flatten.py:37: UserWarning: Do not pass an `input_shape`/`input_dim` argument to a layer. When using Sequential models, prefer using an `Input(shape)` object as the first layer in the model instead.\n",
      "  super().__init__(**kwargs)\n"
     ]
    }
   ],
   "source": [
    "unique_labels = np.unique(labels)\n",
    "num_classes = len(unique_labels)\n",
    "\n",
    "label_to_index = {label: index for index, label in enumerate(unique_labels)}\n",
    "y_train_mapped = np.array([label_to_index[label] for label in y_train])\n",
    "y_test_mapped = np.array([label_to_index[label] for label in y_test])\n",
    "\n",
    "y_train = to_categorical(y_train_mapped, num_classes)\n",
    "y_test = to_categorical(y_test_mapped, num_classes)\n",
    "\n",
    "model = Sequential([\n",
    "    Flatten(input_shape=(28, 28)),\n",
    "    Dense(128, activation='relu'),\n",
    "    Dense(64, activation='relu'),\n",
    "    Dense(len(np.unique(labels)), activation='softmax')\n",
    "])\n",
    "\n",
    "model.compile(optimizer='adam',\n",
    "              loss='categorical_crossentropy',\n",
    "              metrics=['accuracy'])\n"
   ]
  },
  {
   "cell_type": "code",
   "execution_count": 9,
   "id": "eaac2054-6141-42c5-90a5-cbba0b99b928",
   "metadata": {},
   "outputs": [
    {
     "name": "stdout",
     "output_type": "stream",
     "text": [
      "Epoch 1/10\n",
      "\u001b[1m1070/1070\u001b[0m \u001b[32m━━━━━━━━━━━━━━━━━━━━\u001b[0m\u001b[37m\u001b[0m \u001b[1m2s\u001b[0m 948us/step - accuracy: 0.1417 - loss: 3.2156 - val_accuracy: 0.4187 - val_loss: 2.0461\n",
      "Epoch 2/10\n",
      "\u001b[1m1070/1070\u001b[0m \u001b[32m━━━━━━━━━━━━━━━━━━━━\u001b[0m\u001b[37m\u001b[0m \u001b[1m1s\u001b[0m 864us/step - accuracy: 0.4762 - loss: 1.8827 - val_accuracy: 0.5595 - val_loss: 1.5752\n",
      "Epoch 3/10\n",
      "\u001b[1m1070/1070\u001b[0m \u001b[32m━━━━━━━━━━━━━━━━━━━━\u001b[0m\u001b[37m\u001b[0m \u001b[1m1s\u001b[0m 873us/step - accuracy: 0.5906 - loss: 1.4580 - val_accuracy: 0.6276 - val_loss: 1.3338\n",
      "Epoch 4/10\n",
      "\u001b[1m1070/1070\u001b[0m \u001b[32m━━━━━━━━━━━━━━━━━━━━\u001b[0m\u001b[37m\u001b[0m \u001b[1m1s\u001b[0m 865us/step - accuracy: 0.6424 - loss: 1.2559 - val_accuracy: 0.6633 - val_loss: 1.2024\n",
      "Epoch 5/10\n",
      "\u001b[1m1070/1070\u001b[0m \u001b[32m━━━━━━━━━━━━━━━━━━━━\u001b[0m\u001b[37m\u001b[0m \u001b[1m1s\u001b[0m 857us/step - accuracy: 0.6716 - loss: 1.1456 - val_accuracy: 0.6834 - val_loss: 1.1103\n",
      "Epoch 6/10\n",
      "\u001b[1m1070/1070\u001b[0m \u001b[32m━━━━━━━━━━━━━━━━━━━━\u001b[0m\u001b[37m\u001b[0m \u001b[1m1s\u001b[0m 856us/step - accuracy: 0.6964 - loss: 1.0558 - val_accuracy: 0.7134 - val_loss: 1.0297\n",
      "Epoch 7/10\n",
      "\u001b[1m1070/1070\u001b[0m \u001b[32m━━━━━━━━━━━━━━━━━━━━\u001b[0m\u001b[37m\u001b[0m \u001b[1m1s\u001b[0m 861us/step - accuracy: 0.7244 - loss: 0.9736 - val_accuracy: 0.7259 - val_loss: 0.9702\n",
      "Epoch 8/10\n",
      "\u001b[1m1070/1070\u001b[0m \u001b[32m━━━━━━━━━━━━━━━━━━━━\u001b[0m\u001b[37m\u001b[0m \u001b[1m1s\u001b[0m 859us/step - accuracy: 0.7391 - loss: 0.9163 - val_accuracy: 0.7388 - val_loss: 0.9209\n",
      "Epoch 9/10\n",
      "\u001b[1m1070/1070\u001b[0m \u001b[32m━━━━━━━━━━━━━━━━━━━━\u001b[0m\u001b[37m\u001b[0m \u001b[1m1s\u001b[0m 854us/step - accuracy: 0.7461 - loss: 0.8767 - val_accuracy: 0.7509 - val_loss: 0.8728\n",
      "Epoch 10/10\n",
      "\u001b[1m1070/1070\u001b[0m \u001b[32m━━━━━━━━━━━━━━━━━━━━\u001b[0m\u001b[37m\u001b[0m \u001b[1m1s\u001b[0m 844us/step - accuracy: 0.7639 - loss: 0.8211 - val_accuracy: 0.7607 - val_loss: 0.8414\n"
     ]
    },
    {
     "data": {
      "text/plain": [
       "<keras.src.callbacks.history.History at 0x1c31b670690>"
      ]
     },
     "execution_count": 9,
     "metadata": {},
     "output_type": "execute_result"
    }
   ],
   "source": [
    "model.fit(X_train, y_train, epochs=10, validation_data=(X_test, y_test))\n"
   ]
  },
  {
   "cell_type": "code",
   "execution_count": 10,
   "id": "b0e4cad4-283a-4089-8a46-305edb762d03",
   "metadata": {},
   "outputs": [
    {
     "name": "stdout",
     "output_type": "stream",
     "text": [
      "268/268 - 0s - 485us/step - accuracy: 0.7607 - loss: 0.8414\n",
      "\n",
      "Test accuracy: 0.7607197165489197\n"
     ]
    }
   ],
   "source": [
    "test_loss, test_acc = model.evaluate(X_test, y_test, verbose=2)\n",
    "print('\\nTest accuracy:', test_acc)\n"
   ]
  },
  {
   "cell_type": "code",
   "execution_count": 43,
   "id": "efee0e77-e000-4157-abcb-91f9bdfc5cb0",
   "metadata": {},
   "outputs": [
    {
     "name": "stderr",
     "output_type": "stream",
     "text": [
      "WARNING:absl:You are saving your model as an HDF5 file via `model.save()` or `keras.saving.save_model(model)`. This file format is considered legacy. We recommend using instead the native Keras format, e.g. `model.save('my_model.keras')` or `keras.saving.save_model(model, 'my_model.keras')`. \n"
     ]
    }
   ],
   "source": [
    "model.save('C:/Users/Adam/Desktop/WTUM/snn_model.h5')"
   ]
  },
  {
   "cell_type": "code",
   "execution_count": null,
   "id": "e070fc57-a869-44ba-b784-34ed31d7f55f",
   "metadata": {},
   "outputs": [],
   "source": []
  }
 ],
 "metadata": {
  "kernelspec": {
   "display_name": "Python 3 (ipykernel)",
   "language": "python",
   "name": "python3"
  },
  "language_info": {
   "codemirror_mode": {
    "name": "ipython",
    "version": 3
   },
   "file_extension": ".py",
   "mimetype": "text/x-python",
   "name": "python",
   "nbconvert_exporter": "python",
   "pygments_lexer": "ipython3",
   "version": "3.11.7"
  }
 },
 "nbformat": 4,
 "nbformat_minor": 5
}
